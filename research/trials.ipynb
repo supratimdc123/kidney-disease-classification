{
 "cells": [
  {
   "cell_type": "code",
   "execution_count": null,
   "id": "ce2afad9",
   "metadata": {},
   "outputs": [],
   "source": [
    "d = {\"key\": \"value\", \"key1\": \"value1\"}\n",
    "d['key']\n",
    "d.key\n",
    "from box import ConfigBox\n",
    "d2 = ConfigBox({\"key\": \"value\", \"key1\": \"value1\"})\n",
    "d2\n",
    "d2.key\n",
    "def get_product(x:int, y: int) -> int:\n",
    "    return x * y\n",
    "get_product(x=2,y=4)\n",
    "get_product(x=2,y=\"4\")\n",
    "from ensure import ensure_annotations\n",
    "@ensure_annotations\n",
    "def get_product(x:int, y: int) -> int:\n",
    "    return x * y\n",
    "get_product(x=2, y=4)\n",
    "get_product(x=2, y=\"4\")"
   ]
  },
  {
   "cell_type": "markdown",
   "id": "7215d900",
   "metadata": {},
   "source": [
    "## Download data from gdrive"
   ]
  },
  {
   "cell_type": "code",
   "execution_count": 2,
   "id": "35c97ec6",
   "metadata": {},
   "outputs": [],
   "source": [
    "import gdown\n"
   ]
  },
  {
   "cell_type": "code",
   "execution_count": 3,
   "id": "26b4b657",
   "metadata": {},
   "outputs": [],
   "source": [
    "url = \"https://drive.google.com/file/d/1t0fXtg3ibJ59KWYeUT_paKpguzJqLp-v/view?usp=sharing\""
   ]
  },
  {
   "cell_type": "code",
   "execution_count": 9,
   "id": "48663d31",
   "metadata": {},
   "outputs": [
    {
     "data": {
      "text/plain": [
       "'1t0fXtg3ibJ59KWYeUT_paKpguzJqLp-v'"
      ]
     },
     "execution_count": 9,
     "metadata": {},
     "output_type": "execute_result"
    }
   ],
   "source": [
    "file_id = url.split('/')[-2]\n",
    "file_id"
   ]
  },
  {
   "cell_type": "code",
   "execution_count": 10,
   "id": "73e1cbb8",
   "metadata": {},
   "outputs": [
    {
     "name": "stderr",
     "output_type": "stream",
     "text": [
      "Downloading...\n",
      "From (original): https://drive.google.com/uc?/export=download&id=1t0fXtg3ibJ59KWYeUT_paKpguzJqLp-v\n",
      "From (redirected): https://drive.google.com/uc?%2Fexport=download&id=1t0fXtg3ibJ59KWYeUT_paKpguzJqLp-v&confirm=t&uuid=b978459f-1f4a-4c60-86f6-e29ec3d59d26\n",
      "To: d:\\Projects\\kidney-disease-classification\\research\\kidneydataset.zip\n",
      "100%|██████████| 940M/940M [02:19<00:00, 6.74MB/s] \n"
     ]
    },
    {
     "data": {
      "text/plain": [
       "'kidneydataset.zip'"
      ]
     },
     "execution_count": 10,
     "metadata": {},
     "output_type": "execute_result"
    }
   ],
   "source": [
    "prefix = 'https://drive.google.com/uc?/export=download&id='\n",
    "gdown.download(prefix + file_id, 'kidneydataset.zip')"
   ]
  },
  {
   "cell_type": "code",
   "execution_count": null,
   "id": "30c5edca",
   "metadata": {},
   "outputs": [],
   "source": []
  }
 ],
 "metadata": {
  "kernelspec": {
   "display_name": "Python 3",
   "language": "python",
   "name": "python3"
  },
  "language_info": {
   "codemirror_mode": {
    "name": "ipython",
    "version": 3
   },
   "file_extension": ".py",
   "mimetype": "text/x-python",
   "name": "python",
   "nbconvert_exporter": "python",
   "pygments_lexer": "ipython3",
   "version": "3.10.0"
  }
 },
 "nbformat": 4,
 "nbformat_minor": 5
}
